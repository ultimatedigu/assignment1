{
 "cells": [
  {
   "cell_type": "markdown",
   "id": "223dd9f1",
   "metadata": {},
   "source": [
    "Name: Digambar Manoj Patil   \n",
    "Email: patil.digambar27@gmail.com   \n",
    "Contact No: 7276798853   \n",
    "College: College of Engineering Pune (COEP)"
   ]
  },
  {
   "cell_type": "markdown",
   "id": "7794467a",
   "metadata": {},
   "source": [
    "# Question 1: A company decided to give bonus of 5% to employee if his/her year of service is more than 5 years. Ask user for their salary and year of service and print the net bonus amount."
   ]
  },
  {
   "cell_type": "code",
   "execution_count": 1,
   "id": "79909363",
   "metadata": {},
   "outputs": [
    {
     "name": "stdout",
     "output_type": "stream",
     "text": [
      "Enter the salary: 100000\n",
      "Enter the year of service: 7\n",
      "Your bonus is 5000.0\n"
     ]
    }
   ],
   "source": [
    "salary = int(input('Enter the salary: '))\n",
    "duration = int(input('Enter the year of service: '))\n",
    "if duration > 5:\n",
    "    bonus = (salary*5)/100\n",
    "    print(f\"Your bonus is {bonus}\")\n",
    "else:\n",
    "    print(\"You are not eligible for bonus\")"
   ]
  },
  {
   "cell_type": "markdown",
   "id": "ab624059",
   "metadata": {},
   "source": [
    "# Question 2: A school has following rules for grading system: a. Below 25 - F b. 25 to 45 - E c. 45 to 50 - D d. 50 to 60 - C e. 60 to 80 - B f. Above 80 - A Ask user to enter marks and print the corresponding grade"
   ]
  },
  {
   "cell_type": "code",
   "execution_count": 2,
   "id": "ca384257",
   "metadata": {},
   "outputs": [
    {
     "name": "stdout",
     "output_type": "stream",
     "text": [
      "Enter your marks: 68\n",
      "Your grade is 'B'\n"
     ]
    }
   ],
   "source": [
    "marks = float(input('Enter your marks: '))\n",
    "if marks < 25:\n",
    "    print(\"Your grade is 'F'\")\n",
    "elif 25 <= marks and marks < 45:\n",
    "    print(\"Your grade is 'E'\")\n",
    "elif 45 <= marks and marks < 50:\n",
    "    print(\"Your grade is 'D\")\n",
    "elif 50 <= marks and marks < 60:\n",
    "    print(\"Your grade is 'C'\")\n",
    "elif 60 <= marks and marks < 80:\n",
    "    print(\"Your grade is 'B'\")\n",
    "elif 80 <= marks and marks < 100:\n",
    "    print(\"Your grade is 'A'\")\n",
    "elif 0 > marks or marks > 100:\n",
    "    print(\"Your Marks are invalid\")"
   ]
  },
  {
   "cell_type": "markdown",
   "id": "1c0647cc",
   "metadata": {},
   "source": [
    "# Question 3: A student will not be allowed to sit in exam if his/her attendence is less than 75%. Take following input from user Number of classes held Number of classes attended. And print percentage of class attended Is student is allowed to sit in exam or not."
   ]
  },
  {
   "cell_type": "code",
   "execution_count": 3,
   "id": "a320b4fa",
   "metadata": {},
   "outputs": [
    {
     "name": "stdout",
     "output_type": "stream",
     "text": [
      "Enter the number of classes held: 40\n",
      "Enter the number of classes attended: 37\n",
      "Percentage of classes attended is 92.5\n",
      "You are eligible for exam\n"
     ]
    }
   ],
   "source": [
    "classes_held = int(input('Enter the number of classes held: '))\n",
    "classes_attended = int(input('Enter the number of classes attended: '))\n",
    "attendance = classes_attended/classes_held*100\n",
    "print(f'Percentage of classes attended is {attendance}')\n",
    "if attendance >= 75:\n",
    "    print('You are eligible for exam')\n",
    "else:\n",
    "    print('You are not eligible for the exam')"
   ]
  },
  {
   "cell_type": "markdown",
   "id": "138fd39b",
   "metadata": {},
   "source": [
    "# Question 4: Ask user to enter age, sex ( M or F ), marital status ( Y or N ) and then using following rules print their place of service. if employee is female, then she will work only in urban areas. if employee is a male and age is in between 20 to 40 then he may work in anywhere if employee is male and age is in between 40 t0 60 then he will work in urban areas only. And any other input of age should print \"ERROR\"\n"
   ]
  },
  {
   "cell_type": "code",
   "execution_count": 4,
   "id": "44e126e2",
   "metadata": {},
   "outputs": [
    {
     "name": "stdout",
     "output_type": "stream",
     "text": [
      "Enter your age: 25\n",
      "Enter your Gender (M/F): M\n",
      "Enter your maritual status (Y if married / N if not married) : Y\n",
      "You can work anywhere\n"
     ]
    }
   ],
   "source": [
    "age = int(input('Enter your age: '))\n",
    "sex = input('Enter your Gender (M/F): ')\n",
    "marriage = input('Enter your maritual status (Y if married / N if not married) : ')\n",
    "if sex == 'F':\n",
    "    print('Your place of service is in urban areas')\n",
    "elif sex == 'M' and 20 < age <= 40:\n",
    "    print('You can work anywhere')\n",
    "elif sex == 'M' and 40 < age <= 60:\n",
    "    print('You can work in Urban areas only')\n",
    "else :\n",
    "    print('ERROR')"
   ]
  },
  {
   "cell_type": "markdown",
   "id": "d4ee88f7",
   "metadata": {},
   "source": [
    "# Question 5:Take 10 integers from keyboard using loop and print their average value on the screen."
   ]
  },
  {
   "cell_type": "code",
   "execution_count": 5,
   "id": "583b93d9",
   "metadata": {},
   "outputs": [
    {
     "name": "stdout",
     "output_type": "stream",
     "text": [
      "Enter 10 integers: \n",
      "1\n",
      "2\n",
      "3\n",
      "4\n",
      "5\n",
      "6\n",
      "7\n",
      "8\n",
      "9\n",
      "8\n",
      "Average of 10 integers is 5.3\n"
     ]
    }
   ],
   "source": [
    "sum = 0\n",
    "print('Enter 10 integers: ')\n",
    "for i in range(10):\n",
    "    numbers = int(input())\n",
    "    sum = sum + numbers\n",
    "average = sum / 10\n",
    "print(f'Average of 10 integers is {average}')"
   ]
  },
  {
   "cell_type": "markdown",
   "id": "4d89bd71",
   "metadata": {},
   "source": [
    "# Question 6: Write a program to calculate factorial of a number"
   ]
  },
  {
   "cell_type": "code",
   "execution_count": 6,
   "id": "d942ede0",
   "metadata": {},
   "outputs": [
    {
     "name": "stdout",
     "output_type": "stream",
     "text": [
      "Enter the number: 10\n",
      "Factorial of the number is 3628800\n"
     ]
    }
   ],
   "source": [
    "number = int(input('Enter the number: '))\n",
    "factorial = 1\n",
    "for i in range(1, number+1):\n",
    "    factorial = factorial*i\n",
    "print(f'Factorial of the number is {factorial}')"
   ]
  },
  {
   "cell_type": "markdown",
   "id": "161f5be6",
   "metadata": {},
   "source": [
    "# Question 7: Take integer inputs from user until he/she presses q ( Ask to press q to quit after every integer input ). Print average and product of all numbers.\n"
   ]
  },
  {
   "cell_type": "code",
   "execution_count": 7,
   "id": "06646906",
   "metadata": {},
   "outputs": [
    {
     "name": "stdout",
     "output_type": "stream",
     "text": [
      "Enter integers: \n",
      "1\n",
      "Do you want to quit (if yes press 'q'): \n",
      "2\n",
      "Do you want to quit (if yes press 'q'): \n",
      "3\n",
      "Do you want to quit (if yes press 'q'): \n",
      "4\n",
      "Do you want to quit (if yes press 'q'): \n",
      "5\n",
      "Do you want to quit (if yes press 'q'): \n",
      "6\n",
      "Do you want to quit (if yes press 'q'): Q\n",
      "6\n",
      "Do you want to quit (if yes press 'q'): q\n",
      "Average of integers is 3.857142857142857\n"
     ]
    }
   ],
   "source": [
    "sum = 0\n",
    "count = 0\n",
    "print('Enter integers: ')\n",
    "for i in range(10000):\n",
    "    numbers = int(input())\n",
    "    sum = sum + numbers\n",
    "    count = count + 1\n",
    "    quit = input(\"Do you want to quit (if yes press 'q'): \")\n",
    "    if quit == 'q':\n",
    "        break\n",
    "average = sum / count\n",
    "print(f'Average of integers is {average}')"
   ]
  },
  {
   "cell_type": "markdown",
   "id": "bae63f14",
   "metadata": {},
   "source": [
    "# Question 8: A three digit number is called Armstrong number if sum of cube of its digit is equal to number itself. E.g.- 153 is an Armstrong number because (1^3)+(5^3)+(3^3) = 153. Write all Armstrong numbers between 100 to 500."
   ]
  },
  {
   "cell_type": "code",
   "execution_count": 8,
   "id": "d5c4b0f5",
   "metadata": {},
   "outputs": [
    {
     "name": "stdout",
     "output_type": "stream",
     "text": [
      "Armstrong numbers between 100 to 500 are \n",
      "\n",
      "153\n",
      "370\n",
      "371\n",
      "407\n"
     ]
    }
   ],
   "source": [
    "print('Armstrong numbers between 100 to 500 are \\n')\n",
    "for i in range(100,500):\n",
    "    a = i % 10\n",
    "    ba = i // 10\n",
    "    b = ba % 10\n",
    "    c = ba // 10\n",
    "    sum_cube = (a*a*a)+(b*b*b)+(c*c*c)\n",
    "    if i == sum_cube:\n",
    "        print(i)"
   ]
  },
  {
   "cell_type": "markdown",
   "id": "effb597d",
   "metadata": {},
   "source": [
    "# Question 9: Write a program to find the length of the string \"refrigerator\" without using len function."
   ]
  },
  {
   "cell_type": "code",
   "execution_count": 9,
   "id": "3116b3bc",
   "metadata": {},
   "outputs": [
    {
     "name": "stdout",
     "output_type": "stream",
     "text": [
      "Length of the string 'Refrigerator' is \n",
      "12\n"
     ]
    }
   ],
   "source": [
    "x = ('Refrigerator')\n",
    "print(\"Length of the string 'Refrigerator' is \")\n",
    "count = 0\n",
    "for i in x:\n",
    "    count = count+1\n",
    "print(count)"
   ]
  },
  {
   "cell_type": "markdown",
   "id": "87b87cd9",
   "metadata": {},
   "source": [
    "# Question 10: Write a program that takes your full name as input and displays the abbreviations of the first and middle names except the last name which is displayed as it is. For example, if your name is Robert Brett Roser, then the output should be R.B.Roser."
   ]
  },
  {
   "cell_type": "code",
   "execution_count": 10,
   "id": "022a4d08",
   "metadata": {},
   "outputs": [
    {
     "name": "stdout",
     "output_type": "stream",
     "text": [
      "Enter your name: \n",
      "Digambar Manoj Patil\n",
      "Your Name is D. M. Patil\n"
     ]
    }
   ],
   "source": [
    "print('Enter your name: ')\n",
    "name = input()\n",
    "size = len(name)\n",
    "count = 0\n",
    "for i in range(size):\n",
    "    first = name[0]\n",
    "    if name[i] == ' ':\n",
    "        middle = name[i+1]\n",
    "        a = i+1\n",
    "        break\n",
    "\n",
    "for j in range(a, size):\n",
    "    if name[j] == ' ':\n",
    "        last = name[j+1:size]\n",
    "        break\n",
    "print(f'Your Name is {first}. {middle}. {last}')\n",
    "        "
   ]
  }
 ],
 "metadata": {
  "kernelspec": {
   "display_name": "Python 3",
   "language": "python",
   "name": "python3"
  },
  "language_info": {
   "codemirror_mode": {
    "name": "ipython",
    "version": 3
   },
   "file_extension": ".py",
   "mimetype": "text/x-python",
   "name": "python",
   "nbconvert_exporter": "python",
   "pygments_lexer": "ipython3",
   "version": "3.8.8"
  }
 },
 "nbformat": 4,
 "nbformat_minor": 5
}
